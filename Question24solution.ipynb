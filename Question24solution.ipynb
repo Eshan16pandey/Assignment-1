{
 "cells": [
  {
   "cell_type": "code",
   "execution_count": 11,
   "id": "4804c0d5-8501-4c66-9444-d8970a0e68cb",
   "metadata": {},
   "outputs": [],
   "source": [
    "#Given data\n",
    "from scipy.stats import t\n",
    "sample_mean = 260"
   ]
  },
  {
   "cell_type": "code",
   "execution_count": 12,
   "id": "e010ee63-a885-47c7-ac05-b99ec1d2976c",
   "metadata": {},
   "outputs": [],
   "source": [
    "population_mean = 270"
   ]
  },
  {
   "cell_type": "code",
   "execution_count": 13,
   "id": "8b58b5a5-8a16-4e99-96c7-f167781e9c58",
   "metadata": {},
   "outputs": [],
   "source": [
    "sample_std = 90"
   ]
  },
  {
   "cell_type": "code",
   "execution_count": 14,
   "id": "21d46b8e-4187-445d-aca8-3ecebd142e73",
   "metadata": {},
   "outputs": [],
   "source": [
    "sample_size = 18"
   ]
  },
  {
   "cell_type": "code",
   "execution_count": 15,
   "id": "2026e4c8-5283-458d-b21d-33b36f2a9fd1",
   "metadata": {},
   "outputs": [],
   "source": [
    "df = sample_size - 1"
   ]
  },
  {
   "cell_type": "code",
   "execution_count": 16,
   "id": "529feb56-b2b6-41ef-9a27-c0beb8b49787",
   "metadata": {},
   "outputs": [],
   "source": [
    "t_score = (sample_mean - population_mean) / (sample_std/(sample_size**0.5))"
   ]
  },
  {
   "cell_type": "code",
   "execution_count": 17,
   "id": "212d8ff6-81b4-46e8-a36d-738074154ef2",
   "metadata": {},
   "outputs": [],
   "source": [
    "probability = t.cdf(t_score,df)"
   ]
  },
  {
   "cell_type": "code",
   "execution_count": 18,
   "id": "b5bdc3b5-589c-4f06-8b94-57c6b70f1fed",
   "metadata": {},
   "outputs": [
    {
     "name": "stdout",
     "output_type": "stream",
     "text": [
      "t-score: -0.4714045207910317\n",
      "Probability: 0.32167253567098364\n"
     ]
    }
   ],
   "source": [
    "print(\"t-score:\", t_score)\n",
    "print(\"Probability:\", probability)"
   ]
  },
  {
   "cell_type": "code",
   "execution_count": null,
   "id": "6860a338-116c-42b8-a5e7-f2dfa2e8a805",
   "metadata": {},
   "outputs": [],
   "source": []
  }
 ],
 "metadata": {
  "kernelspec": {
   "display_name": "Python 3 (ipykernel)",
   "language": "python",
   "name": "python3"
  },
  "language_info": {
   "codemirror_mode": {
    "name": "ipython",
    "version": 3
   },
   "file_extension": ".py",
   "mimetype": "text/x-python",
   "name": "python",
   "nbconvert_exporter": "python",
   "pygments_lexer": "ipython3",
   "version": "3.11.7"
  }
 },
 "nbformat": 4,
 "nbformat_minor": 5
}
