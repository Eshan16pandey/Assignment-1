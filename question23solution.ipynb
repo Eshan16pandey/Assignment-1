{
 "cells": [
  {
   "cell_type": "code",
   "execution_count": 8,
   "id": "86da9cfb-dfaf-4081-b93c-c1c39b2085fe",
   "metadata": {},
   "outputs": [],
   "source": [
    "from scipy.stats import t"
   ]
  },
  {
   "cell_type": "code",
   "execution_count": 9,
   "id": "257a6ec9-3138-45e9-af52-33cb544d7a44",
   "metadata": {},
   "outputs": [],
   "source": [
    "#smaple size\n",
    "\n",
    "n = 25"
   ]
  },
  {
   "cell_type": "code",
   "execution_count": 10,
   "id": "280a46b4-22d2-4014-8879-d22d23139389",
   "metadata": {},
   "outputs": [],
   "source": [
    "df = n - 1"
   ]
  },
  {
   "cell_type": "code",
   "execution_count": 11,
   "id": "290e6fb3-1e60-4c34-b594-a1ae805f7f32",
   "metadata": {},
   "outputs": [],
   "source": [
    "t_95 = t.ppf(0.975,df)"
   ]
  },
  {
   "cell_type": "code",
   "execution_count": 12,
   "id": "3fe5378a-fc0b-4622-ab3b-86a35be2b09c",
   "metadata": {},
   "outputs": [],
   "source": [
    "t_96 = t.ppf(0.98,df)"
   ]
  },
  {
   "cell_type": "code",
   "execution_count": 13,
   "id": "74f6ba49-76e2-47c0-9d29-3d26c98544dd",
   "metadata": {},
   "outputs": [],
   "source": [
    "t_99 = t.ppf(0.995,df)"
   ]
  },
  {
   "cell_type": "code",
   "execution_count": 14,
   "id": "f6c9c3d3-6089-466d-8cfa-dfdcbce1adc0",
   "metadata": {},
   "outputs": [
    {
     "name": "stdout",
     "output_type": "stream",
     "text": [
      "T score for 95% confidence interval: 2.0638985616280205\n"
     ]
    }
   ],
   "source": [
    "print(\"T score for 95% confidence interval:\", t_95)\n"
   ]
  },
  {
   "cell_type": "code",
   "execution_count": 15,
   "id": "397604b5-b203-4c4a-8175-af2f26462b90",
   "metadata": {},
   "outputs": [
    {
     "name": "stdout",
     "output_type": "stream",
     "text": [
      "T score for 96% confidence interval: 2.1715446760080677\n"
     ]
    }
   ],
   "source": [
    "print(\"T score for 96% confidence interval:\", t_96)\n"
   ]
  },
  {
   "cell_type": "code",
   "execution_count": 16,
   "id": "e28d0b35-63c5-4350-9af8-e4eaa31cab49",
   "metadata": {},
   "outputs": [
    {
     "name": "stdout",
     "output_type": "stream",
     "text": [
      "T score for 99% confidence interval: 2.796939504772804\n"
     ]
    }
   ],
   "source": [
    "print(\"T score for 99% confidence interval:\", t_99)"
   ]
  },
  {
   "cell_type": "code",
   "execution_count": null,
   "id": "8101e8ef-8cbf-4b89-a637-2fb3c9825745",
   "metadata": {},
   "outputs": [],
   "source": []
  }
 ],
 "metadata": {
  "kernelspec": {
   "display_name": "Python 3 (ipykernel)",
   "language": "python",
   "name": "python3"
  },
  "language_info": {
   "codemirror_mode": {
    "name": "ipython",
    "version": 3
   },
   "file_extension": ".py",
   "mimetype": "text/x-python",
   "name": "python",
   "nbconvert_exporter": "python",
   "pygments_lexer": "ipython3",
   "version": "3.11.7"
  }
 },
 "nbformat": 4,
 "nbformat_minor": 5
}
