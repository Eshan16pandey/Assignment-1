{
 "cells": [
  {
   "cell_type": "code",
   "execution_count": 11,
   "id": "282fb4b1-3c80-4035-a56e-fa3f17ee96fc",
   "metadata": {},
   "outputs": [],
   "source": [
    "from scipy.stats import norm\n"
   ]
  },
  {
   "cell_type": "code",
   "execution_count": 12,
   "id": "8ba7f732-c179-4b5c-b9cb-f23798bd7cb2",
   "metadata": {},
   "outputs": [],
   "source": [
    "z_90 = norm.ppf(0.95)"
   ]
  },
  {
   "cell_type": "code",
   "execution_count": 13,
   "id": "b4b2ab5d-ed19-4672-a0a8-bffacef8d526",
   "metadata": {},
   "outputs": [],
   "source": [
    "z_94 = norm.ppf(0.97)"
   ]
  },
  {
   "cell_type": "code",
   "execution_count": 14,
   "id": "c81dcc8a-6ae5-4255-9674-ee0cf2b91718",
   "metadata": {},
   "outputs": [],
   "source": [
    "z_60 = norm.ppf(0.80)"
   ]
  },
  {
   "cell_type": "code",
   "execution_count": 16,
   "id": "07b64abc-3305-4580-85dd-5a26da60e3fa",
   "metadata": {},
   "outputs": [
    {
     "name": "stdout",
     "output_type": "stream",
     "text": [
      "Z score of 90%: 1.6448536269514722\n",
      "Z score of 94%: 1.8807936081512509\n",
      "Z score of 60%: 0.8416212335729143\n"
     ]
    }
   ],
   "source": [
    "print(\"Z score of 90%:\",z_90)\n",
    "print(\"Z score of 94%:\",z_94)\n",
    "print(\"Z score of 60%:\",z_60)"
   ]
  },
  {
   "cell_type": "code",
   "execution_count": null,
   "id": "0f7554ad-6fba-45b2-b99b-352df162991d",
   "metadata": {},
   "outputs": [],
   "source": []
  }
 ],
 "metadata": {
  "kernelspec": {
   "display_name": "Python 3 (ipykernel)",
   "language": "python",
   "name": "python3"
  },
  "language_info": {
   "codemirror_mode": {
    "name": "ipython",
    "version": 3
   },
   "file_extension": ".py",
   "mimetype": "text/x-python",
   "name": "python",
   "nbconvert_exporter": "python",
   "pygments_lexer": "ipython3",
   "version": "3.11.7"
  }
 },
 "nbformat": 4,
 "nbformat_minor": 5
}
